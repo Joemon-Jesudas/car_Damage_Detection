{
 "cells": [
  {
   "cell_type": "code",
   "execution_count": 1,
   "metadata": {},
   "outputs": [],
   "source": [
    "import pandas as pd\n"
   ]
  },
  {
   "cell_type": "code",
   "execution_count": 68,
   "metadata": {},
   "outputs": [],
   "source": [
    "#Input label file\n",
    "annotation_df  =pd.read_csv(\"./car_damage_val.csv\")"
   ]
  },
  {
   "cell_type": "code",
   "execution_count": 69,
   "metadata": {},
   "outputs": [
    {
     "data": {
      "text/html": [
       "<div>\n",
       "<style scoped>\n",
       "    .dataframe tbody tr th:only-of-type {\n",
       "        vertical-align: middle;\n",
       "    }\n",
       "\n",
       "    .dataframe tbody tr th {\n",
       "        vertical-align: top;\n",
       "    }\n",
       "\n",
       "    .dataframe thead th {\n",
       "        text-align: right;\n",
       "    }\n",
       "</style>\n",
       "<table border=\"1\" class=\"dataframe\">\n",
       "  <thead>\n",
       "    <tr style=\"text-align: right;\">\n",
       "      <th></th>\n",
       "      <th>filename</th>\n",
       "      <th>file_size</th>\n",
       "      <th>file_attributes</th>\n",
       "      <th>region_count</th>\n",
       "      <th>region_id</th>\n",
       "      <th>region_shape_attributes</th>\n",
       "      <th>region_attributes</th>\n",
       "    </tr>\n",
       "  </thead>\n",
       "  <tbody>\n",
       "    <tr>\n",
       "      <th>0</th>\n",
       "      <td>image61.jpeg</td>\n",
       "      <td>7872</td>\n",
       "      <td>{}</td>\n",
       "      <td>1</td>\n",
       "      <td>0</td>\n",
       "      <td>{\"name\":\"polygon\",\"all_points_x\":[151,144,134,...</td>\n",
       "      <td>{\"Class Name\":\"damage\"}</td>\n",
       "    </tr>\n",
       "    <tr>\n",
       "      <th>1</th>\n",
       "      <td>image62.jpg</td>\n",
       "      <td>115110</td>\n",
       "      <td>{}</td>\n",
       "      <td>1</td>\n",
       "      <td>0</td>\n",
       "      <td>{\"name\":\"polygon\",\"all_points_x\":[255,269,280,...</td>\n",
       "      <td>{\"Class Name\":\"damage\"}</td>\n",
       "    </tr>\n",
       "    <tr>\n",
       "      <th>2</th>\n",
       "      <td>image63.jpg</td>\n",
       "      <td>12052</td>\n",
       "      <td>{}</td>\n",
       "      <td>1</td>\n",
       "      <td>0</td>\n",
       "      <td>{\"name\":\"polygon\",\"all_points_x\":[122,152,186,...</td>\n",
       "      <td>{\"Class Name\":\"damage\"}</td>\n",
       "    </tr>\n",
       "    <tr>\n",
       "      <th>3</th>\n",
       "      <td>image64.jpg</td>\n",
       "      <td>43162</td>\n",
       "      <td>{}</td>\n",
       "      <td>2</td>\n",
       "      <td>0</td>\n",
       "      <td>{\"name\":\"polygon\",\"all_points_x\":[466,480,501,...</td>\n",
       "      <td>{\"Class Name\":\"damage\"}</td>\n",
       "    </tr>\n",
       "    <tr>\n",
       "      <th>4</th>\n",
       "      <td>image64.jpg</td>\n",
       "      <td>43162</td>\n",
       "      <td>{}</td>\n",
       "      <td>2</td>\n",
       "      <td>1</td>\n",
       "      <td>{\"name\":\"polygon\",\"all_points_x\":[487,479,484,...</td>\n",
       "      <td>{\"Class Name\":\"damage\"}</td>\n",
       "    </tr>\n",
       "  </tbody>\n",
       "</table>\n",
       "</div>"
      ],
      "text/plain": [
       "       filename  file_size file_attributes  region_count  region_id  \\\n",
       "0  image61.jpeg       7872              {}             1          0   \n",
       "1   image62.jpg     115110              {}             1          0   \n",
       "2   image63.jpg      12052              {}             1          0   \n",
       "3   image64.jpg      43162              {}             2          0   \n",
       "4   image64.jpg      43162              {}             2          1   \n",
       "\n",
       "                             region_shape_attributes        region_attributes  \n",
       "0  {\"name\":\"polygon\",\"all_points_x\":[151,144,134,...  {\"Class Name\":\"damage\"}  \n",
       "1  {\"name\":\"polygon\",\"all_points_x\":[255,269,280,...  {\"Class Name\":\"damage\"}  \n",
       "2  {\"name\":\"polygon\",\"all_points_x\":[122,152,186,...  {\"Class Name\":\"damage\"}  \n",
       "3  {\"name\":\"polygon\",\"all_points_x\":[466,480,501,...  {\"Class Name\":\"damage\"}  \n",
       "4  {\"name\":\"polygon\",\"all_points_x\":[487,479,484,...  {\"Class Name\":\"damage\"}  "
      ]
     },
     "execution_count": 69,
     "metadata": {},
     "output_type": "execute_result"
    }
   ],
   "source": [
    "annotation_df.head(5)"
   ]
  },
  {
   "cell_type": "code",
   "execution_count": 70,
   "metadata": {},
   "outputs": [],
   "source": [
    "filenames = annotation_df['filename']"
   ]
  },
  {
   "cell_type": "code",
   "execution_count": 71,
   "metadata": {},
   "outputs": [],
   "source": [
    "no_duplicate_filenames = list(set(filenames))"
   ]
  },
  {
   "cell_type": "code",
   "execution_count": 72,
   "metadata": {},
   "outputs": [
    {
     "data": {
      "text/plain": [
       "15"
      ]
     },
     "execution_count": 72,
     "metadata": {},
     "output_type": "execute_result"
    }
   ],
   "source": [
    "len(no_duplicate_filenames)"
   ]
  },
  {
   "cell_type": "code",
   "execution_count": 73,
   "metadata": {},
   "outputs": [],
   "source": [
    "bbox = (annotation_df[\"region_shape_attributes\"])"
   ]
  },
  {
   "cell_type": "code",
   "execution_count": 74,
   "metadata": {},
   "outputs": [],
   "source": [
    "import json\n",
    "def string_to_dict(dict_string):\n",
    "    # Convert to proper json format\n",
    "    dict_string = dict_string.replace(\"'\", '\"').replace('u\"', '\"')\n",
    "    return json.loads(dict_string)"
   ]
  },
  {
   "cell_type": "code",
   "execution_count": 75,
   "metadata": {},
   "outputs": [],
   "source": [
    "bbox = bbox.apply(string_to_dict)"
   ]
  },
  {
   "cell_type": "code",
   "execution_count": 76,
   "metadata": {},
   "outputs": [],
   "source": [
    "bbox_list = list(bbox)"
   ]
  },
  {
   "cell_type": "code",
   "execution_count": 77,
   "metadata": {},
   "outputs": [],
   "source": [
    "bbox_df = pd.DataFrame(bbox_list)"
   ]
  },
  {
   "cell_type": "code",
   "execution_count": 78,
   "metadata": {},
   "outputs": [
    {
     "data": {
      "text/html": [
       "<div>\n",
       "<style scoped>\n",
       "    .dataframe tbody tr th:only-of-type {\n",
       "        vertical-align: middle;\n",
       "    }\n",
       "\n",
       "    .dataframe tbody tr th {\n",
       "        vertical-align: top;\n",
       "    }\n",
       "\n",
       "    .dataframe thead th {\n",
       "        text-align: right;\n",
       "    }\n",
       "</style>\n",
       "<table border=\"1\" class=\"dataframe\">\n",
       "  <thead>\n",
       "    <tr style=\"text-align: right;\">\n",
       "      <th></th>\n",
       "      <th>name</th>\n",
       "      <th>all_points_x</th>\n",
       "      <th>all_points_y</th>\n",
       "    </tr>\n",
       "  </thead>\n",
       "  <tbody>\n",
       "    <tr>\n",
       "      <th>0</th>\n",
       "      <td>polygon</td>\n",
       "      <td>[151, 144, 134, 125, 120, 133, 145, 150, 165, ...</td>\n",
       "      <td>[67, 83, 95, 104, 120, 124, 108, 102, 88, 68, ...</td>\n",
       "    </tr>\n",
       "    <tr>\n",
       "      <th>1</th>\n",
       "      <td>polygon</td>\n",
       "      <td>[255, 269, 280, 286, 318, 376, 520, 623, 675, ...</td>\n",
       "      <td>[443, 458, 486, 503, 508, 504, 504, 501, 508, ...</td>\n",
       "    </tr>\n",
       "    <tr>\n",
       "      <th>2</th>\n",
       "      <td>polygon</td>\n",
       "      <td>[122, 152, 186, 210, 237, 250, 264, 270, 270, ...</td>\n",
       "      <td>[69, 67, 76, 79, 79, 87, 106, 133, 171, 186, 2...</td>\n",
       "    </tr>\n",
       "    <tr>\n",
       "      <th>3</th>\n",
       "      <td>polygon</td>\n",
       "      <td>[466, 480, 501, 502, 474, 455, 466]</td>\n",
       "      <td>[130, 137, 137, 119, 112, 114, 130]</td>\n",
       "    </tr>\n",
       "    <tr>\n",
       "      <th>4</th>\n",
       "      <td>polygon</td>\n",
       "      <td>[487, 479, 484, 478, 485, 492, 507, 525, 526, ...</td>\n",
       "      <td>[242, 264, 279, 306, 349, 368, 359, 329, 282, ...</td>\n",
       "    </tr>\n",
       "  </tbody>\n",
       "</table>\n",
       "</div>"
      ],
      "text/plain": [
       "      name                                       all_points_x  \\\n",
       "0  polygon  [151, 144, 134, 125, 120, 133, 145, 150, 165, ...   \n",
       "1  polygon  [255, 269, 280, 286, 318, 376, 520, 623, 675, ...   \n",
       "2  polygon  [122, 152, 186, 210, 237, 250, 264, 270, 270, ...   \n",
       "3  polygon                [466, 480, 501, 502, 474, 455, 466]   \n",
       "4  polygon  [487, 479, 484, 478, 485, 492, 507, 525, 526, ...   \n",
       "\n",
       "                                        all_points_y  \n",
       "0  [67, 83, 95, 104, 120, 124, 108, 102, 88, 68, ...  \n",
       "1  [443, 458, 486, 503, 508, 504, 504, 501, 508, ...  \n",
       "2  [69, 67, 76, 79, 79, 87, 106, 133, 171, 186, 2...  \n",
       "3                [130, 137, 137, 119, 112, 114, 130]  \n",
       "4  [242, 264, 279, 306, 349, 368, 359, 329, 282, ...  "
      ]
     },
     "execution_count": 78,
     "metadata": {},
     "output_type": "execute_result"
    }
   ],
   "source": [
    "bbox_df.head(5)"
   ]
  },
  {
   "cell_type": "code",
   "execution_count": 79,
   "metadata": {},
   "outputs": [],
   "source": [
    "label  =annotation_df[\"region_attributes\"]"
   ]
  },
  {
   "cell_type": "code",
   "execution_count": 80,
   "metadata": {},
   "outputs": [],
   "source": [
    "label = label.apply(string_to_dict)"
   ]
  },
  {
   "cell_type": "code",
   "execution_count": 81,
   "metadata": {},
   "outputs": [],
   "source": [
    "label_lst = list(label)"
   ]
  },
  {
   "cell_type": "code",
   "execution_count": 82,
   "metadata": {},
   "outputs": [],
   "source": [
    "label_df = pd.DataFrame(label_lst)"
   ]
  },
  {
   "cell_type": "code",
   "execution_count": 83,
   "metadata": {},
   "outputs": [
    {
     "data": {
      "text/html": [
       "<div>\n",
       "<style scoped>\n",
       "    .dataframe tbody tr th:only-of-type {\n",
       "        vertical-align: middle;\n",
       "    }\n",
       "\n",
       "    .dataframe tbody tr th {\n",
       "        vertical-align: top;\n",
       "    }\n",
       "\n",
       "    .dataframe thead th {\n",
       "        text-align: right;\n",
       "    }\n",
       "</style>\n",
       "<table border=\"1\" class=\"dataframe\">\n",
       "  <thead>\n",
       "    <tr style=\"text-align: right;\">\n",
       "      <th></th>\n",
       "      <th>Class Name</th>\n",
       "    </tr>\n",
       "  </thead>\n",
       "  <tbody>\n",
       "    <tr>\n",
       "      <th>0</th>\n",
       "      <td>damage</td>\n",
       "    </tr>\n",
       "    <tr>\n",
       "      <th>1</th>\n",
       "      <td>damage</td>\n",
       "    </tr>\n",
       "    <tr>\n",
       "      <th>2</th>\n",
       "      <td>damage</td>\n",
       "    </tr>\n",
       "    <tr>\n",
       "      <th>3</th>\n",
       "      <td>damage</td>\n",
       "    </tr>\n",
       "    <tr>\n",
       "      <th>4</th>\n",
       "      <td>damage</td>\n",
       "    </tr>\n",
       "  </tbody>\n",
       "</table>\n",
       "</div>"
      ],
      "text/plain": [
       "  Class Name\n",
       "0     damage\n",
       "1     damage\n",
       "2     damage\n",
       "3     damage\n",
       "4     damage"
      ]
     },
     "execution_count": 83,
     "metadata": {},
     "output_type": "execute_result"
    }
   ],
   "source": [
    "label_df.head(5)"
   ]
  },
  {
   "cell_type": "code",
   "execution_count": 84,
   "metadata": {},
   "outputs": [],
   "source": [
    "\n",
    "mask_DF = annotation_df"
   ]
  },
  {
   "cell_type": "code",
   "execution_count": 85,
   "metadata": {},
   "outputs": [],
   "source": [
    "mask_DF.drop('file_size',axis='columns', inplace=True)"
   ]
  },
  {
   "cell_type": "code",
   "execution_count": 86,
   "metadata": {},
   "outputs": [],
   "source": [
    "mask_DF.drop('file_attributes',axis='columns', inplace=True)"
   ]
  },
  {
   "cell_type": "code",
   "execution_count": 87,
   "metadata": {},
   "outputs": [],
   "source": [
    "mask_DF.drop('region_count',axis='columns', inplace=True)"
   ]
  },
  {
   "cell_type": "code",
   "execution_count": 88,
   "metadata": {},
   "outputs": [],
   "source": [
    "mask_DF.drop('region_shape_attributes',axis='columns', inplace=True)"
   ]
  },
  {
   "cell_type": "code",
   "execution_count": 89,
   "metadata": {},
   "outputs": [],
   "source": [
    "mask_DF.drop('region_attributes',axis='columns', inplace=True)"
   ]
  },
  {
   "cell_type": "code",
   "execution_count": 90,
   "metadata": {},
   "outputs": [],
   "source": [
    "mask_DF.drop('region_id',axis='columns', inplace=True)"
   ]
  },
  {
   "cell_type": "code",
   "execution_count": 91,
   "metadata": {},
   "outputs": [
    {
     "data": {
      "text/html": [
       "<div>\n",
       "<style scoped>\n",
       "    .dataframe tbody tr th:only-of-type {\n",
       "        vertical-align: middle;\n",
       "    }\n",
       "\n",
       "    .dataframe tbody tr th {\n",
       "        vertical-align: top;\n",
       "    }\n",
       "\n",
       "    .dataframe thead th {\n",
       "        text-align: right;\n",
       "    }\n",
       "</style>\n",
       "<table border=\"1\" class=\"dataframe\">\n",
       "  <thead>\n",
       "    <tr style=\"text-align: right;\">\n",
       "      <th></th>\n",
       "      <th>filename</th>\n",
       "    </tr>\n",
       "  </thead>\n",
       "  <tbody>\n",
       "    <tr>\n",
       "      <th>0</th>\n",
       "      <td>image61.jpeg</td>\n",
       "    </tr>\n",
       "    <tr>\n",
       "      <th>1</th>\n",
       "      <td>image62.jpg</td>\n",
       "    </tr>\n",
       "    <tr>\n",
       "      <th>2</th>\n",
       "      <td>image63.jpg</td>\n",
       "    </tr>\n",
       "    <tr>\n",
       "      <th>3</th>\n",
       "      <td>image64.jpg</td>\n",
       "    </tr>\n",
       "    <tr>\n",
       "      <th>4</th>\n",
       "      <td>image64.jpg</td>\n",
       "    </tr>\n",
       "  </tbody>\n",
       "</table>\n",
       "</div>"
      ],
      "text/plain": [
       "       filename\n",
       "0  image61.jpeg\n",
       "1   image62.jpg\n",
       "2   image63.jpg\n",
       "3   image64.jpg\n",
       "4   image64.jpg"
      ]
     },
     "execution_count": 91,
     "metadata": {},
     "output_type": "execute_result"
    }
   ],
   "source": [
    "mask_DF.head(5)"
   ]
  },
  {
   "cell_type": "code",
   "execution_count": 92,
   "metadata": {},
   "outputs": [],
   "source": [
    "mask_DF['x'] = bbox_df['all_points_x']"
   ]
  },
  {
   "cell_type": "code",
   "execution_count": 93,
   "metadata": {},
   "outputs": [],
   "source": [
    "mask_DF['y'] = bbox_df['all_points_y']"
   ]
  },
  {
   "cell_type": "code",
   "execution_count": 96,
   "metadata": {},
   "outputs": [],
   "source": [
    "mask_DF['Label'] = label_df[\"Class Name\"]"
   ]
  },
  {
   "cell_type": "code",
   "execution_count": 97,
   "metadata": {},
   "outputs": [],
   "source": [
    "from skimage import draw\n",
    "from skimage import io\n",
    "import numpy as np\n",
    "pixelvalue = {'background':0,'damage':1}\n",
    "def poly2mask(filename, x_list, y_list, label_list,h, w):\n",
    "    mask = np.zeros((h, w),dtype=np.uint8)\n",
    "    for i in range(0,len(x_list)):\n",
    "        r = np.array(y_list[i])\n",
    "        c = np.array(x_list[i])\n",
    "        idx = pixelvalue[label_list[i]]\n",
    "        fill_row_coords, fill_col_coords = draw.polygon(r, c)\n",
    "        mask[fill_row_coords, fill_col_coords] = idx\n",
    "    io.imsave(filename, mask)"
   ]
  },
  {
   "cell_type": "code",
   "execution_count": 98,
   "metadata": {},
   "outputs": [
    {
     "name": "stdout",
     "output_type": "stream",
     "text": [
      "image64.jpg\n",
      "image62.jpg\n",
      "image75.jpeg\n",
      "image63.jpg\n",
      "image72.jpeg\n",
      "image76.jpg\n",
      "image80.jpg\n",
      "image73.jpg\n",
      "image78.jpg\n",
      "image75.jpg\n",
      "image79.jpg\n"
     ]
    },
    {
     "name": "stderr",
     "output_type": "stream",
     "text": [
      "c:\\users\\czwkz5d\\appdata\\local\\programs\\python\\python37\\lib\\site-packages\\ipykernel_launcher.py:17: UserWarning: Mask\\image64.jpg is a low contrast image\n",
      "c:\\users\\czwkz5d\\appdata\\local\\programs\\python\\python37\\lib\\site-packages\\ipykernel_launcher.py:17: UserWarning: Mask\\image62.jpg is a low contrast image\n",
      "c:\\users\\czwkz5d\\appdata\\local\\programs\\python\\python37\\lib\\site-packages\\ipykernel_launcher.py:17: UserWarning: Mask\\image75.jpeg is a low contrast image\n",
      "c:\\users\\czwkz5d\\appdata\\local\\programs\\python\\python37\\lib\\site-packages\\ipykernel_launcher.py:17: UserWarning: Mask\\image63.jpg is a low contrast image\n",
      "c:\\users\\czwkz5d\\appdata\\local\\programs\\python\\python37\\lib\\site-packages\\ipykernel_launcher.py:17: UserWarning: Mask\\image72.jpeg is a low contrast image\n",
      "c:\\users\\czwkz5d\\appdata\\local\\programs\\python\\python37\\lib\\site-packages\\ipykernel_launcher.py:17: UserWarning: Mask\\image76.jpg is a low contrast image\n",
      "c:\\users\\czwkz5d\\appdata\\local\\programs\\python\\python37\\lib\\site-packages\\ipykernel_launcher.py:17: UserWarning: Mask\\image80.jpg is a low contrast image\n",
      "c:\\users\\czwkz5d\\appdata\\local\\programs\\python\\python37\\lib\\site-packages\\ipykernel_launcher.py:17: UserWarning: Mask\\image73.jpg is a low contrast image\n",
      "c:\\users\\czwkz5d\\appdata\\local\\programs\\python\\python37\\lib\\site-packages\\ipykernel_launcher.py:17: UserWarning: Mask\\image78.jpg is a low contrast image\n",
      "c:\\users\\czwkz5d\\appdata\\local\\programs\\python\\python37\\lib\\site-packages\\ipykernel_launcher.py:17: UserWarning: Mask\\image75.jpg is a low contrast image\n"
     ]
    },
    {
     "name": "stdout",
     "output_type": "stream",
     "text": [
      "image77.jpg\n",
      "image61.jpeg\n",
      "image65.jpg\n",
      "image74.jpeg\n"
     ]
    },
    {
     "name": "stderr",
     "output_type": "stream",
     "text": [
      "c:\\users\\czwkz5d\\appdata\\local\\programs\\python\\python37\\lib\\site-packages\\ipykernel_launcher.py:17: UserWarning: Mask\\image79.jpg is a low contrast image\n",
      "c:\\users\\czwkz5d\\appdata\\local\\programs\\python\\python37\\lib\\site-packages\\ipykernel_launcher.py:17: UserWarning: Mask\\image77.jpg is a low contrast image\n",
      "c:\\users\\czwkz5d\\appdata\\local\\programs\\python\\python37\\lib\\site-packages\\ipykernel_launcher.py:17: UserWarning: Mask\\image61.jpeg is a low contrast image\n",
      "c:\\users\\czwkz5d\\appdata\\local\\programs\\python\\python37\\lib\\site-packages\\ipykernel_launcher.py:17: UserWarning: Mask\\image65.jpg is a low contrast image\n",
      "c:\\users\\czwkz5d\\appdata\\local\\programs\\python\\python37\\lib\\site-packages\\ipykernel_launcher.py:17: UserWarning: Mask\\image74.jpeg is a low contrast image\n"
     ]
    }
   ],
   "source": [
    "\n",
    "mask_folder = 'Mask'\n",
    "import os\n",
    "import cv2\n",
    "#Input images\n",
    "image_folder = 'Image/val/Image'\n",
    "for eachFile in no_duplicate_filenames:\n",
    "    mask_filename = os.path.join(mask_folder,eachFile)\n",
    "    img = cv2.imread(os.path.join(image_folder,eachFile))\n",
    "    print(eachFile)\n",
    "    h,w,c = img.shape                     \n",
    "    x_list = list(mask_DF[mask_DF['filename']==eachFile]['x'])\n",
    "    y_list = list(mask_DF[mask_DF['filename']==eachFile]['y'])\n",
    "    label_list = list(mask_DF[mask_DF['filename']==eachFile]['Label'])\n",
    "    poly2mask(mask_filename,x_list,y_list,label_list,h,w)\n",
    "\n",
    "    \n",
    "    "
   ]
  },
  {
   "cell_type": "code",
   "execution_count": 99,
   "metadata": {},
   "outputs": [],
   "source": [
    "mask_files = os.listdir(mask_folder)"
   ]
  },
  {
   "cell_type": "code",
   "execution_count": 100,
   "metadata": {},
   "outputs": [
    {
     "data": {
      "text/plain": [
       "['image61.jpeg',\n",
       " 'image62.jpg',\n",
       " 'image63.jpg',\n",
       " 'image64.jpg',\n",
       " 'image65.jpg',\n",
       " 'image72.jpeg',\n",
       " 'image73.jpg',\n",
       " 'image74.jpeg',\n",
       " 'image75.jpeg',\n",
       " 'image75.jpg',\n",
       " 'image76.jpg',\n",
       " 'image77.jpg',\n",
       " 'image78.jpg',\n",
       " 'image79.jpg',\n",
       " 'image80.jpg']"
      ]
     },
     "execution_count": 100,
     "metadata": {},
     "output_type": "execute_result"
    }
   ],
   "source": [
    "mask_files"
   ]
  },
  {
   "cell_type": "code",
   "execution_count": 101,
   "metadata": {},
   "outputs": [
    {
     "data": {
      "text/plain": [
       "['image64.jpg',\n",
       " 'image62.jpg',\n",
       " 'image75.jpeg',\n",
       " 'image63.jpg',\n",
       " 'image72.jpeg',\n",
       " 'image76.jpg',\n",
       " 'image80.jpg',\n",
       " 'image73.jpg',\n",
       " 'image78.jpg',\n",
       " 'image75.jpg',\n",
       " 'image79.jpg',\n",
       " 'image77.jpg',\n",
       " 'image61.jpeg',\n",
       " 'image65.jpg',\n",
       " 'image74.jpeg']"
      ]
     },
     "execution_count": 101,
     "metadata": {},
     "output_type": "execute_result"
    }
   ],
   "source": [
    "no_duplicate_filenames"
   ]
  },
  {
   "cell_type": "code",
   "execution_count": 102,
   "metadata": {},
   "outputs": [],
   "source": [
    "import os\n",
    "import cv2\n",
    "import numpy as np\n",
    "superimposed_image_folder = \"Super\"\n",
    "image_folder = 'Image/val/Image'\n",
    "mask_folder = 'Mask'\n",
    "mask_files = os.listdir(mask_folder)\n",
    "\n",
    "for eachmaskFile in mask_files:\n",
    "    img = cv2.imread(os.path.join(image_folder,eachmaskFile))\n",
    "    mask_img = cv2.imread(os.path.join(mask_folder,eachmaskFile),0)\n",
    "    h,w,c = img.shape  \n",
    "    mask_rgb = np.zeros((h,w,3),dtype=np.uint8)\n",
    "    mask_img = np.uint8(127 * mask_img)\n",
    "    mask_rgb[:,:,1] = mask_img*255\n",
    "#     mask_rgb[:,:,1] = mask_img\n",
    "#     mask_rgb[:,:,2] = mask_img\n",
    "    alpha = 0.3\n",
    "    superimposed_img = mask_rgb * (alpha) + img *(1-alpha)\n",
    "    cv2.imwrite(os.path.join(superimposed_image_folder,eachmaskFile),superimposed_img)\n",
    "\n",
    "    "
   ]
  }
 ],
 "metadata": {
  "kernelspec": {
   "display_name": "Python 3 (ipykernel)",
   "language": "python",
   "name": "python3"
  },
  "language_info": {
   "codemirror_mode": {
    "name": "ipython",
    "version": 3
   },
   "file_extension": ".py",
   "mimetype": "text/x-python",
   "name": "python",
   "nbconvert_exporter": "python",
   "pygments_lexer": "ipython3",
   "version": "3.7.7"
  }
 },
 "nbformat": 4,
 "nbformat_minor": 2
}
